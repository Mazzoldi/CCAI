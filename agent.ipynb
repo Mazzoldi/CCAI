{
 "cells": [
  {
   "cell_type": "code",
   "execution_count": 97,
   "id": "ea45971a",
   "metadata": {},
   "outputs": [
    {
     "name": "stdout",
     "output_type": "stream",
     "text": [
      "Requirement already satisfied: langgraph in c:\\users\\danie\\appdata\\local\\packages\\pythonsoftwarefoundation.python.3.11_qbz5n2kfra8p0\\localcache\\local-packages\\python311\\site-packages (0.3.32)\n",
      "Requirement already satisfied: langchain in c:\\users\\danie\\appdata\\local\\packages\\pythonsoftwarefoundation.python.3.11_qbz5n2kfra8p0\\localcache\\local-packages\\python311\\site-packages (0.3.24)\n",
      "Requirement already satisfied: langchain_openai in c:\\users\\danie\\appdata\\local\\packages\\pythonsoftwarefoundation.python.3.11_qbz5n2kfra8p0\\localcache\\local-packages\\python311\\site-packages (0.3.14)\n",
      "Requirement already satisfied: langchain_community in c:\\users\\danie\\appdata\\local\\packages\\pythonsoftwarefoundation.python.3.11_qbz5n2kfra8p0\\localcache\\local-packages\\python311\\site-packages (0.3.22)\n",
      "Requirement already satisfied: langchain-core<0.4,>=0.1 in c:\\users\\danie\\appdata\\local\\packages\\pythonsoftwarefoundation.python.3.11_qbz5n2kfra8p0\\localcache\\local-packages\\python311\\site-packages (from langgraph) (0.3.55)\n",
      "Requirement already satisfied: langgraph-checkpoint<3.0.0,>=2.0.10 in c:\\users\\danie\\appdata\\local\\packages\\pythonsoftwarefoundation.python.3.11_qbz5n2kfra8p0\\localcache\\local-packages\\python311\\site-packages (from langgraph) (2.0.24)\n",
      "Requirement already satisfied: langgraph-prebuilt<0.2,>=0.1.8 in c:\\users\\danie\\appdata\\local\\packages\\pythonsoftwarefoundation.python.3.11_qbz5n2kfra8p0\\localcache\\local-packages\\python311\\site-packages (from langgraph) (0.1.8)\n",
      "Requirement already satisfied: langgraph-sdk<0.2.0,>=0.1.42 in c:\\users\\danie\\appdata\\local\\packages\\pythonsoftwarefoundation.python.3.11_qbz5n2kfra8p0\\localcache\\local-packages\\python311\\site-packages (from langgraph) (0.1.63)\n",
      "Requirement already satisfied: xxhash<4.0.0,>=3.5.0 in c:\\users\\danie\\appdata\\local\\packages\\pythonsoftwarefoundation.python.3.11_qbz5n2kfra8p0\\localcache\\local-packages\\python311\\site-packages (from langgraph) (3.5.0)\n",
      "Requirement already satisfied: langchain-text-splitters<1.0.0,>=0.3.8 in c:\\users\\danie\\appdata\\local\\packages\\pythonsoftwarefoundation.python.3.11_qbz5n2kfra8p0\\localcache\\local-packages\\python311\\site-packages (from langchain) (0.3.8)\n",
      "Requirement already satisfied: langsmith<0.4,>=0.1.17 in c:\\users\\danie\\appdata\\local\\packages\\pythonsoftwarefoundation.python.3.11_qbz5n2kfra8p0\\localcache\\local-packages\\python311\\site-packages (from langchain) (0.3.33)\n",
      "Requirement already satisfied: pydantic<3.0.0,>=2.7.4 in c:\\users\\danie\\appdata\\local\\packages\\pythonsoftwarefoundation.python.3.11_qbz5n2kfra8p0\\localcache\\local-packages\\python311\\site-packages (from langchain) (2.11.3)\n",
      "Requirement already satisfied: SQLAlchemy<3,>=1.4 in c:\\users\\danie\\appdata\\local\\packages\\pythonsoftwarefoundation.python.3.11_qbz5n2kfra8p0\\localcache\\local-packages\\python311\\site-packages (from langchain) (2.0.36)\n",
      "Requirement already satisfied: requests<3,>=2 in c:\\users\\danie\\appdata\\local\\packages\\pythonsoftwarefoundation.python.3.11_qbz5n2kfra8p0\\localcache\\local-packages\\python311\\site-packages (from langchain) (2.32.3)\n",
      "Requirement already satisfied: PyYAML>=5.3 in c:\\users\\danie\\appdata\\local\\packages\\pythonsoftwarefoundation.python.3.11_qbz5n2kfra8p0\\localcache\\local-packages\\python311\\site-packages (from langchain) (6.0.2)\n",
      "Requirement already satisfied: openai<2.0.0,>=1.68.2 in c:\\users\\danie\\appdata\\local\\packages\\pythonsoftwarefoundation.python.3.11_qbz5n2kfra8p0\\localcache\\local-packages\\python311\\site-packages (from langchain_openai) (1.76.0)\n",
      "Requirement already satisfied: tiktoken<1,>=0.7 in c:\\users\\danie\\appdata\\local\\packages\\pythonsoftwarefoundation.python.3.11_qbz5n2kfra8p0\\localcache\\local-packages\\python311\\site-packages (from langchain_openai) (0.9.0)\n",
      "Requirement already satisfied: aiohttp<4.0.0,>=3.8.3 in c:\\users\\danie\\appdata\\local\\packages\\pythonsoftwarefoundation.python.3.11_qbz5n2kfra8p0\\localcache\\local-packages\\python311\\site-packages (from langchain_community) (3.11.18)\n",
      "Requirement already satisfied: tenacity!=8.4.0,<10,>=8.1.0 in c:\\users\\danie\\appdata\\local\\packages\\pythonsoftwarefoundation.python.3.11_qbz5n2kfra8p0\\localcache\\local-packages\\python311\\site-packages (from langchain_community) (9.1.2)\n",
      "Requirement already satisfied: dataclasses-json<0.7,>=0.5.7 in c:\\users\\danie\\appdata\\local\\packages\\pythonsoftwarefoundation.python.3.11_qbz5n2kfra8p0\\localcache\\local-packages\\python311\\site-packages (from langchain_community) (0.6.7)\n",
      "Requirement already satisfied: pydantic-settings<3.0.0,>=2.4.0 in c:\\users\\danie\\appdata\\local\\packages\\pythonsoftwarefoundation.python.3.11_qbz5n2kfra8p0\\localcache\\local-packages\\python311\\site-packages (from langchain_community) (2.9.1)\n",
      "Requirement already satisfied: httpx-sse<1.0.0,>=0.4.0 in c:\\users\\danie\\appdata\\local\\packages\\pythonsoftwarefoundation.python.3.11_qbz5n2kfra8p0\\localcache\\local-packages\\python311\\site-packages (from langchain_community) (0.4.0)\n",
      "Requirement already satisfied: numpy>=1.26.2 in c:\\users\\danie\\appdata\\local\\packages\\pythonsoftwarefoundation.python.3.11_qbz5n2kfra8p0\\localcache\\local-packages\\python311\\site-packages (from langchain_community) (2.0.1)\n",
      "Requirement already satisfied: aiohappyeyeballs>=2.3.0 in c:\\users\\danie\\appdata\\local\\packages\\pythonsoftwarefoundation.python.3.11_qbz5n2kfra8p0\\localcache\\local-packages\\python311\\site-packages (from aiohttp<4.0.0,>=3.8.3->langchain_community) (2.6.1)\n",
      "Requirement already satisfied: aiosignal>=1.1.2 in c:\\users\\danie\\appdata\\local\\packages\\pythonsoftwarefoundation.python.3.11_qbz5n2kfra8p0\\localcache\\local-packages\\python311\\site-packages (from aiohttp<4.0.0,>=3.8.3->langchain_community) (1.3.2)\n",
      "Requirement already satisfied: attrs>=17.3.0 in c:\\users\\danie\\appdata\\local\\packages\\pythonsoftwarefoundation.python.3.11_qbz5n2kfra8p0\\localcache\\local-packages\\python311\\site-packages (from aiohttp<4.0.0,>=3.8.3->langchain_community) (25.3.0)\n",
      "Requirement already satisfied: frozenlist>=1.1.1 in c:\\users\\danie\\appdata\\local\\packages\\pythonsoftwarefoundation.python.3.11_qbz5n2kfra8p0\\localcache\\local-packages\\python311\\site-packages (from aiohttp<4.0.0,>=3.8.3->langchain_community) (1.6.0)\n",
      "Requirement already satisfied: multidict<7.0,>=4.5 in c:\\users\\danie\\appdata\\local\\packages\\pythonsoftwarefoundation.python.3.11_qbz5n2kfra8p0\\localcache\\local-packages\\python311\\site-packages (from aiohttp<4.0.0,>=3.8.3->langchain_community) (6.4.3)\n",
      "Requirement already satisfied: propcache>=0.2.0 in c:\\users\\danie\\appdata\\local\\packages\\pythonsoftwarefoundation.python.3.11_qbz5n2kfra8p0\\localcache\\local-packages\\python311\\site-packages (from aiohttp<4.0.0,>=3.8.3->langchain_community) (0.3.1)\n",
      "Requirement already satisfied: yarl<2.0,>=1.17.0 in c:\\users\\danie\\appdata\\local\\packages\\pythonsoftwarefoundation.python.3.11_qbz5n2kfra8p0\\localcache\\local-packages\\python311\\site-packages (from aiohttp<4.0.0,>=3.8.3->langchain_community) (1.20.0)\n",
      "Requirement already satisfied: marshmallow<4.0.0,>=3.18.0 in c:\\users\\danie\\appdata\\local\\packages\\pythonsoftwarefoundation.python.3.11_qbz5n2kfra8p0\\localcache\\local-packages\\python311\\site-packages (from dataclasses-json<0.7,>=0.5.7->langchain_community) (3.26.1)\n",
      "Requirement already satisfied: typing-inspect<1,>=0.4.0 in c:\\users\\danie\\appdata\\local\\packages\\pythonsoftwarefoundation.python.3.11_qbz5n2kfra8p0\\localcache\\local-packages\\python311\\site-packages (from dataclasses-json<0.7,>=0.5.7->langchain_community) (0.9.0)\n",
      "Requirement already satisfied: jsonpatch<2.0,>=1.33 in c:\\users\\danie\\appdata\\local\\packages\\pythonsoftwarefoundation.python.3.11_qbz5n2kfra8p0\\localcache\\local-packages\\python311\\site-packages (from langchain-core<0.4,>=0.1->langgraph) (1.33)\n",
      "Requirement already satisfied: packaging<25,>=23.2 in c:\\users\\danie\\appdata\\local\\packages\\pythonsoftwarefoundation.python.3.11_qbz5n2kfra8p0\\localcache\\local-packages\\python311\\site-packages (from langchain-core<0.4,>=0.1->langgraph) (24.1)\n",
      "Requirement already satisfied: typing-extensions>=4.7 in c:\\users\\danie\\appdata\\local\\packages\\pythonsoftwarefoundation.python.3.11_qbz5n2kfra8p0\\localcache\\local-packages\\python311\\site-packages (from langchain-core<0.4,>=0.1->langgraph) (4.12.2)\n",
      "Requirement already satisfied: ormsgpack<2.0.0,>=1.8.0 in c:\\users\\danie\\appdata\\local\\packages\\pythonsoftwarefoundation.python.3.11_qbz5n2kfra8p0\\localcache\\local-packages\\python311\\site-packages (from langgraph-checkpoint<3.0.0,>=2.0.10->langgraph) (1.9.1)\n",
      "Requirement already satisfied: httpx>=0.25.2 in c:\\users\\danie\\appdata\\local\\packages\\pythonsoftwarefoundation.python.3.11_qbz5n2kfra8p0\\localcache\\local-packages\\python311\\site-packages (from langgraph-sdk<0.2.0,>=0.1.42->langgraph) (0.28.1)\n",
      "Requirement already satisfied: orjson>=3.10.1 in c:\\users\\danie\\appdata\\local\\packages\\pythonsoftwarefoundation.python.3.11_qbz5n2kfra8p0\\localcache\\local-packages\\python311\\site-packages (from langgraph-sdk<0.2.0,>=0.1.42->langgraph) (3.10.16)\n",
      "Requirement already satisfied: requests-toolbelt<2.0.0,>=1.0.0 in c:\\users\\danie\\appdata\\local\\packages\\pythonsoftwarefoundation.python.3.11_qbz5n2kfra8p0\\localcache\\local-packages\\python311\\site-packages (from langsmith<0.4,>=0.1.17->langchain) (1.0.0)\n",
      "Requirement already satisfied: zstandard<0.24.0,>=0.23.0 in c:\\users\\danie\\appdata\\local\\packages\\pythonsoftwarefoundation.python.3.11_qbz5n2kfra8p0\\localcache\\local-packages\\python311\\site-packages (from langsmith<0.4,>=0.1.17->langchain) (0.23.0)\n",
      "Requirement already satisfied: anyio<5,>=3.5.0 in c:\\users\\danie\\appdata\\local\\packages\\pythonsoftwarefoundation.python.3.11_qbz5n2kfra8p0\\localcache\\local-packages\\python311\\site-packages (from openai<2.0.0,>=1.68.2->langchain_openai) (4.9.0)\n",
      "Requirement already satisfied: distro<2,>=1.7.0 in c:\\users\\danie\\appdata\\local\\packages\\pythonsoftwarefoundation.python.3.11_qbz5n2kfra8p0\\localcache\\local-packages\\python311\\site-packages (from openai<2.0.0,>=1.68.2->langchain_openai) (1.9.0)\n",
      "Requirement already satisfied: jiter<1,>=0.4.0 in c:\\users\\danie\\appdata\\local\\packages\\pythonsoftwarefoundation.python.3.11_qbz5n2kfra8p0\\localcache\\local-packages\\python311\\site-packages (from openai<2.0.0,>=1.68.2->langchain_openai) (0.9.0)\n",
      "Requirement already satisfied: sniffio in c:\\users\\danie\\appdata\\local\\packages\\pythonsoftwarefoundation.python.3.11_qbz5n2kfra8p0\\localcache\\local-packages\\python311\\site-packages (from openai<2.0.0,>=1.68.2->langchain_openai) (1.3.1)\n",
      "Requirement already satisfied: tqdm>4 in c:\\users\\danie\\appdata\\local\\packages\\pythonsoftwarefoundation.python.3.11_qbz5n2kfra8p0\\localcache\\local-packages\\python311\\site-packages (from openai<2.0.0,>=1.68.2->langchain_openai) (4.67.1)\n",
      "Requirement already satisfied: annotated-types>=0.6.0 in c:\\users\\danie\\appdata\\local\\packages\\pythonsoftwarefoundation.python.3.11_qbz5n2kfra8p0\\localcache\\local-packages\\python311\\site-packages (from pydantic<3.0.0,>=2.7.4->langchain) (0.7.0)\n",
      "Requirement already satisfied: pydantic-core==2.33.1 in c:\\users\\danie\\appdata\\local\\packages\\pythonsoftwarefoundation.python.3.11_qbz5n2kfra8p0\\localcache\\local-packages\\python311\\site-packages (from pydantic<3.0.0,>=2.7.4->langchain) (2.33.1)\n",
      "Requirement already satisfied: typing-inspection>=0.4.0 in c:\\users\\danie\\appdata\\local\\packages\\pythonsoftwarefoundation.python.3.11_qbz5n2kfra8p0\\localcache\\local-packages\\python311\\site-packages (from pydantic<3.0.0,>=2.7.4->langchain) (0.4.0)\n",
      "Requirement already satisfied: python-dotenv>=0.21.0 in c:\\users\\danie\\appdata\\local\\packages\\pythonsoftwarefoundation.python.3.11_qbz5n2kfra8p0\\localcache\\local-packages\\python311\\site-packages (from pydantic-settings<3.0.0,>=2.4.0->langchain_community) (1.1.0)\n",
      "Requirement already satisfied: charset-normalizer<4,>=2 in c:\\users\\danie\\appdata\\local\\packages\\pythonsoftwarefoundation.python.3.11_qbz5n2kfra8p0\\localcache\\local-packages\\python311\\site-packages (from requests<3,>=2->langchain) (3.4.0)\n",
      "Requirement already satisfied: idna<4,>=2.5 in c:\\users\\danie\\appdata\\local\\packages\\pythonsoftwarefoundation.python.3.11_qbz5n2kfra8p0\\localcache\\local-packages\\python311\\site-packages (from requests<3,>=2->langchain) (3.10)\n",
      "Requirement already satisfied: urllib3<3,>=1.21.1 in c:\\users\\danie\\appdata\\local\\packages\\pythonsoftwarefoundation.python.3.11_qbz5n2kfra8p0\\localcache\\local-packages\\python311\\site-packages (from requests<3,>=2->langchain) (2.2.3)\n",
      "Requirement already satisfied: certifi>=2017.4.17 in c:\\users\\danie\\appdata\\local\\packages\\pythonsoftwarefoundation.python.3.11_qbz5n2kfra8p0\\localcache\\local-packages\\python311\\site-packages (from requests<3,>=2->langchain) (2024.8.30)\n",
      "Requirement already satisfied: greenlet!=0.4.17 in c:\\users\\danie\\appdata\\local\\packages\\pythonsoftwarefoundation.python.3.11_qbz5n2kfra8p0\\localcache\\local-packages\\python311\\site-packages (from SQLAlchemy<3,>=1.4->langchain) (3.1.1)\n",
      "Requirement already satisfied: regex>=2022.1.18 in c:\\users\\danie\\appdata\\local\\packages\\pythonsoftwarefoundation.python.3.11_qbz5n2kfra8p0\\localcache\\local-packages\\python311\\site-packages (from tiktoken<1,>=0.7->langchain_openai) (2024.11.6)\n",
      "Requirement already satisfied: httpcore==1.* in c:\\users\\danie\\appdata\\local\\packages\\pythonsoftwarefoundation.python.3.11_qbz5n2kfra8p0\\localcache\\local-packages\\python311\\site-packages (from httpx>=0.25.2->langgraph-sdk<0.2.0,>=0.1.42->langgraph) (1.0.8)\n",
      "Requirement already satisfied: h11<0.15,>=0.13 in c:\\users\\danie\\appdata\\local\\packages\\pythonsoftwarefoundation.python.3.11_qbz5n2kfra8p0\\localcache\\local-packages\\python311\\site-packages (from httpcore==1.*->httpx>=0.25.2->langgraph-sdk<0.2.0,>=0.1.42->langgraph) (0.14.0)\n",
      "Requirement already satisfied: jsonpointer>=1.9 in c:\\users\\danie\\appdata\\local\\packages\\pythonsoftwarefoundation.python.3.11_qbz5n2kfra8p0\\localcache\\local-packages\\python311\\site-packages (from jsonpatch<2.0,>=1.33->langchain-core<0.4,>=0.1->langgraph) (3.0.0)\n",
      "Requirement already satisfied: colorama in c:\\users\\danie\\appdata\\local\\packages\\pythonsoftwarefoundation.python.3.11_qbz5n2kfra8p0\\localcache\\local-packages\\python311\\site-packages (from tqdm>4->openai<2.0.0,>=1.68.2->langchain_openai) (0.4.6)\n",
      "Requirement already satisfied: mypy-extensions>=0.3.0 in c:\\users\\danie\\appdata\\local\\packages\\pythonsoftwarefoundation.python.3.11_qbz5n2kfra8p0\\localcache\\local-packages\\python311\\site-packages (from typing-inspect<1,>=0.4.0->dataclasses-json<0.7,>=0.5.7->langchain_community) (1.1.0)\n",
      "Note: you may need to restart the kernel to use updated packages.\n",
      "Note: you may need to restart the kernel to use updated packages.\n"
     ]
    }
   ],
   "source": [
    "%pip install langgraph langchain langchain_openai langchain_community\n",
    "%pip install -q langfuse"
   ]
  },
  {
   "cell_type": "code",
   "execution_count": 98,
   "id": "2e6caf51",
   "metadata": {},
   "outputs": [],
   "source": [
    "import os, getpass\n",
    "import json\n",
    "\n",
    "from typing import TypedDict, List, Optional, Dict, Any\n",
    "from IPython.display import Image, display\n",
    "\n",
    "from langfuse import Langfuse\n",
    "from langfuse.callback import CallbackHandler\n",
    "\n",
    "from langgraph.graph import MessagesState, StateGraph, START, END\n",
    "from langchain_community.tools.tavily_search import TavilySearchResults\n",
    "from langchain_openai import ChatOpenAI\n",
    "from langchain_core.messages import SystemMessage, HumanMessage"
   ]
  },
  {
   "cell_type": "code",
   "execution_count": 99,
   "id": "d9c7b1fe",
   "metadata": {},
   "outputs": [],
   "source": [
    "def _set_env(var: str):\n",
    "    if not os.environ.get(var):\n",
    "        os.environ[var] = getpass.getpass(f\"{var}: \")\n",
    "\n",
    "_set_env(\"OPENAI_API_KEY\")\n",
    "_set_env(\"TAVILY_API_KEY\")\n",
    "_set_env(\"LANGFUSE_PUBLIC_KEY\")\n",
    "_set_env(\"LANGFUSE_SECRET_KEY\")\n",
    "_set_env(\"LANGFUSE_HOST\")\n",
    "\n",
    "langfuse = Langfuse(\n",
    "  secret_key=os.environ[\"LANGFUSE_SECRET_KEY\"],\n",
    "  public_key=os.environ[\"LANGFUSE_PUBLIC_KEY\"],\n",
    "  host=os.environ[\"LANGFUSE_HOST\"]\n",
    ")\n",
    "\n",
    "langfuse_handler = CallbackHandler()"
   ]
  },
  {
   "cell_type": "code",
   "execution_count": 100,
   "id": "1301df1b",
   "metadata": {},
   "outputs": [],
   "source": [
    "class Draft(TypedDict):\n",
    "    title: str\n",
    "    body: str\n",
    "    images: List[str]\n",
    "\n",
    "class State(MessagesState):\n",
    "    prompt: str\n",
    "    topic: str\n",
    "    sources: Optional[List[Dict[str, Any]]]\n",
    "    reason: Optional[List[str]]\n",
    "    draft: str"
   ]
  },
  {
   "cell_type": "code",
   "execution_count": 101,
   "id": "997af919",
   "metadata": {},
   "outputs": [],
   "source": [
    "llm = ChatOpenAI(\n",
    "    model=\"gpt-4o-mini\",\n",
    "    temperature=0.7,\n",
    "    streaming=True,\n",
    "    verbose=True,\n",
    "    callbacks=[langfuse_handler],\n",
    ")\n",
    "\n",
    "tavily = TavilySearchResults(max_results=5)"
   ]
  },
  {
   "cell_type": "code",
   "execution_count": 102,
   "id": "8b6e5a7a",
   "metadata": {},
   "outputs": [],
   "source": [
    "def get_user_prompt_node(state: State) -> State:\n",
    "    '''\n",
    "    Get the user prompt node.\n",
    "    '''\n",
    "    prompt = input(\n",
    "        \"Inserisci il prompt per l'articolo: \"\n",
    "    )\n",
    "    return { \"prompt\": prompt }"
   ]
  },
  {
   "cell_type": "code",
   "execution_count": 103,
   "id": "3c8542f7",
   "metadata": {},
   "outputs": [],
   "source": [
    "def extract_topic_node(state: State) -> State:\n",
    "    '''\n",
    "    Extract the topic from the user prompt.\n",
    "    '''\n",
    "    \n",
    "    prompt = f'''\n",
    "    The user provided the following input:\n",
    "\n",
    "    \"{state[\"prompt\"]}\"\n",
    "    Your task is to extract the main topic of the article that the user wants to write.\n",
    "    The topic should be a single word or a short phrase that summarizes the main idea of the article.\n",
    "\n",
    "    For example, if the user prompt is \"How to train a dog\", the topic would be \"dog training\".\n",
    "\n",
    "    If the user prompt is \"The history of the internet\", the topic would be \"internet history\".\n",
    "\n",
    "    Only return the topic.\n",
    "    '''\n",
    "\n",
    "    print(f\"Prompt: {prompt}\")\n",
    "\n",
    "    response = llm.invoke(prompt)\n",
    "\n",
    "    print(f\"Response: {response}\")\n",
    "    \n",
    "    topic = response.content.strip()\n",
    "    return { \"topic\": topic }"
   ]
  },
  {
   "cell_type": "code",
   "execution_count": 104,
   "id": "cb091689",
   "metadata": {},
   "outputs": [],
   "source": [
    "def search_sources_node(state: State) -> State:\n",
    "    '''\n",
    "    Use Tavily to search for high-quality sources based on the topic.\n",
    "    Filters results with score > 0.7 and keeps structured data.\n",
    "    '''\n",
    "    \n",
    "    results = tavily.invoke({ \"query\": state[\"topic\"] })\n",
    "\n",
    "    formatted_results = [\n",
    "        {\n",
    "            \"title\": r.get(\"title\", \"\"),\n",
    "            \"url\": r.get(\"url\", \"\"),\n",
    "            \"content\": r.get(\"content\", \"\"),\n",
    "            \"score\": r.get(\"score\", 0),\n",
    "        }\n",
    "        for r in results if r.get(\"score\", 0) > 0.7\n",
    "    ]\n",
    "\n",
    "    return { \"sources\": formatted_results }   "
   ]
  },
  {
   "cell_type": "code",
   "execution_count": 105,
   "id": "a41c45e2",
   "metadata": {},
   "outputs": [],
   "source": [
    "def generate_draft_node(state: State) -> State:\n",
    "    '''\n",
    "    Generate a draft for the article based on the topic and sources.\n",
    "    '''\n",
    "\n",
    "    urls = [r[\"url\"] for r in state[\"sources\"] if \"url\" in r]\n",
    "    sources = \"\\n\".join(urls)\n",
    "    \n",
    "    prompt = f'''\n",
    "    Write a detailed article about the topic: \"{state[\"topic\"]}\". \n",
    "\n",
    "    Use **ONLY** the exact information contained in the following sources, and do not add anything that is not directly supported by them. \n",
    "    The article should strictly reflect the facts as they are presented in the sources without any additional assumptions or unverified details:\n",
    "    {sources}\n",
    "\n",
    "    Make sure to mention the exact dates and details from the sources, without adding any speculative or external information. \n",
    "    The tone should be formal, informative, and objective.\n",
    "    '''\n",
    "\n",
    "    response = llm.invoke(prompt)\n",
    "    draft = response.content.strip()\n",
    "    return { \"draft\": draft }"
   ]
  },
  {
   "cell_type": "code",
   "execution_count": null,
   "id": "ef054732",
   "metadata": {},
   "outputs": [],
   "source": [
    "def verify_article_node(state: State) -> State:\n",
    "    '''\n",
    "    Verify that the article only contains information supported by the sources.\n",
    "    Return the verification result and (if not verified) the reason why.\n",
    "    '''\n",
    "    \n",
    "    urls = [r[\"url\"] for r in state[\"sources\"] if \"url\" in r]\n",
    "    sources = \"\\n\".join(urls)\n",
    "\n",
    "    prompt = f'''\n",
    "    You are a fact-checking assistant. Below is an article and the sources it claims to be based on.\n",
    "\n",
    "    SOURCES:\n",
    "    {sources}\n",
    "\n",
    "    ARTICLE:\n",
    "    {state[\"draft\"]}\n",
    "\n",
    "    Question: Does the article reflect the general accuracy and key points presented in the sources, \n",
    "    even if some details might not be explicitly mentioned or slightly inferred?\n",
    "\n",
    "    Answer YES or NO. \n",
    "    If NO, please explain which claims might not be fully supported by the sources and provide suggestions for a more accurate representation of the sources. \n",
    "    Focus on the overall accuracy of the article, not on minor details.\n",
    "    '''\n",
    "\n",
    "    response = llm.invoke(prompt)\n",
    "    content = response.content.strip()\n",
    "    \n",
    "    is_verified = \"yes\" in content.lower().split(\"\\n\")[0]\n",
    "\n",
    "    return {\n",
    "        \"reason\": None if is_verified else content,\n",
    "        \"verified\": is_verified,\n",
    "    }"
   ]
  },
  {
   "cell_type": "code",
   "execution_count": 107,
   "id": "3c12db01",
   "metadata": {},
   "outputs": [],
   "source": [
    "builder = StateGraph(State)\n",
    "builder.add_node(\"get_user_prompt\", get_user_prompt_node)\n",
    "builder.add_node(\"extract_topic\", extract_topic_node)\n",
    "builder.add_node(\"search_sources\", search_sources_node)\n",
    "builder.add_node(\"generate_draft\", generate_draft_node)\n",
    "builder.add_node(\"verify_article\", verify_article_node)\n",
    "\n",
    "builder.add_edge(START, \"get_user_prompt\")\n",
    "builder.add_edge(\"get_user_prompt\", \"extract_topic\")\n",
    "builder.add_edge(\"extract_topic\", \"search_sources\")\n",
    "builder.add_edge(\"search_sources\", \"generate_draft\")\n",
    "builder.add_edge(\"generate_draft\", \"verify_article\")\n",
    "builder.add_edge(\"verify_article\", END)\n",
    "\n",
    "graph = builder.compile().with_config(\n",
    "    callbacks=[langfuse_handler],\n",
    ")"
   ]
  },
  {
   "cell_type": "code",
   "execution_count": 108,
   "id": "be5d56f5",
   "metadata": {},
   "outputs": [
    {
     "data": {
      "image/png": "[encoded data removed]",
      "text/plain": [
       "<IPython.core.display.Image object>"
      ]
     },
     "metadata": {},
     "output_type": "display_data"
    }
   ],
   "source": [
    "display(Image(graph.get_graph().draw_mermaid_png()))"
   ]
  },
  {
   "cell_type": "code",
   "execution_count": 109,
   "id": "a1a766b5",
   "metadata": {},
   "outputs": [
    {
     "name": "stdout",
     "output_type": "stream",
     "text": [
      "Prompt: \n",
      "    The user provided the following input:\n",
      "\n",
      "    \"Scrivi un articolo sulla PS5 Pro\"\n",
      "    Your task is to extract the main topic of the article that the user wants to write.\n",
      "    The topic should be a single word or a short phrase that summarizes the main idea of the article.\n",
      "\n",
      "    For example, if the user prompt is \"How to train a dog\", the topic would be \"dog training\".\n",
      "\n",
      "    If the user prompt is \"The history of the internet\", the topic would be \"internet history\".\n",
      "\n",
      "    Only return the topic.\n",
      "    \n",
      "Response: content='PS5 Pro' additional_kwargs={} response_metadata={'finish_reason': 'stop', 'model_name': 'gpt-4o-mini-2024-07-18', 'system_fingerprint': 'fp_129a36352a'} id='run-d3004a03-d944-40b2-b5f6-3a2dd0a65429-0'\n"
     ]
    },
    {
     "data": {
      "text/plain": [
       "{'messages': [],\n",
       " 'prompt': 'Scrivi un articolo sulla PS5 Pro',\n",
       " 'topic': 'PS5 Pro',\n",
       " 'sources': [{'title': 'Buy PlayStation®5 Pro Console | PlayStation® (US) | See Price',\n",
       "   'url': 'https://direct.playstation.com/en-us/buy-consoles/playstation5-pro-console',\n",
       "   'content': 'PS5® Pro is an all-digital console with no disc drive. Sign into your account for PlayStation™Network and go to PlayStation™Store to buy and download games**. You can also add a Disc Drive*** to your PS5® Pro console if you would like to play PS5 or PS4 games on Blu-ray™ Disc, or if you want to watch movies and shows on 4K Ultra HD Blu-ray™ Discs, Blu-ray™ Discs, and DVDs.\\n- less\\nCurrently Unavailable\\nLow stock\\nComing Soon\\nSign In to Buy\\nCurrently Unavailable\\nAdd PS Plus Required [...] With the PlayStation®5 Pro console, the world’s greatest game creators can enhance their games with incredible features like advanced ray tracing, super sharp image clarity for your 4K TV, and high frame rate gameplay*. That means you get to play PS5® games with the most impressive visuals ever possible on a PlayStation® console. [...] 2 TB of built in storage.\\nSmooth and fluid high frame rate gameplay at up to 120fps with 4K output and Ray.\\nPS5® Pro game boost and backwards compatibility*****\\nEnhanced image quality for PS4 games.\\nNext level online wireless connectivity.\\nUltra-high speed SSD for maximum game-play.\\nRay tracing simulating light and shadows.\\n4K TV ready gaming.\\nHDR technology displaying vibrant and lifelike colors.\\nTempest 3D AudioTech make your surroundings come alive.',\n",
       "   'score': 0.8622012},\n",
       "  {'title': 'Sony PlayStation 5 vs. PlayStation 5 Pro: Should You Upgrade?',\n",
       "   'url': 'https://www.pcmag.com/comparisons/sony-playstation-5-vs-ps5-pro-should-you-upgrade',\n",
       "   'content': \"The recently released PlayStation 5 Pro is a significant upgrade over the four-year-old\\xa0PS5, thanks to its faster processor, additional storage, and graphics upscaling features. Sony took a similar route with the PlayStation 4 Pro, so it isn't a surprising move. That said, the $699.99 PS5 Pro is the priciest PlayStation to date, which begs the question: If you already own a PS5, is it worth upgrading? And if you don't, which one should you buy? We've reviewed both consoles and are here to show [...] PlayStation 5 Pro (Credit: Will Greenwald)\\nPrice\\nAt $699.99, the PS5 Pro is the most expensive home console in some time. It costs more than the highest-end PS3 did at launch ($599.99). It's $200 more than the PS5 Slim with an optical disc drive (or\\xa0Xbox Series X)\\xa0and $250 more than the digital-only PS5. You can buy a Nintendo Switch and two Switch Lites for the same price.\\nWinner: PS5 [...] The PS5 has enough muscle to bring ray tracing to games, but the PS5 Pro is better at it—for optimized titles. Ray tracing is a 3D rendering technology that models how light works to produce realistic reflections and lighting effects. The PS5 Pro has a more advanced version of the PS5's ray tracing tech, which translates into more realistic light and reflections (Marvel's Spider-Man 2 and Ratchet and Clank: Rift Apart are standout titles). However, the effects only appear in select titles\",\n",
       "   'score': 0.85624856},\n",
       "  {'title': 'Witness Play Unleashed (US) - PlayStation®5 Pro',\n",
       "   'url': 'https://www.playstation.com/en-us/ps5/ps5-pro/',\n",
       "   'content': 'The PS5 Pro console can play over 8,500 PS4® games. With the\\xa0PS5 Pro version of the Game Boost feature, you can enjoy faster and smoother frame rates in some of the PS4 and PS5 console’s greatest games.5\\nPS4 games playable on PS5 consoles\\nImmersive PS5 console features\\nEverything that makes PS5 the best place to play, backed up by the power of PS5 Pro.\\nDualSense® wireless controller [...] Play at 60fps, or up to 120fps, with 4K output and ray tracing for compatible games\\nWith the power of the PS5 Pro console, compatible games can be played at 60fps, or up to 120fps, with Ray Tracing and AI-enhanced 4K resolution using PSSR—all at the same time—on your 4K TV.\\nLatest PS5 games\\nBrowse game genres\\nPS5 Pro features\\nMore enhancements under the hood of the PS5 Pro console.\\n\"Drag to spin, hover to zoom\"\"Drag to spin, pinch to zoom\"\\n2TB of storage [...] \"PlayStation 5 Pro brings a lot of extra horsepower that has allowed us to really push the graphical fidelity, while also maintaining the stable high framerates that we all enjoy so much. For Horizon Forbidden West, that means you can now enjoy a visual quality that matches or surpasses the Quality mode on the regular PlayStation 5, but now at 60 FPS – double the framerate.\"\\xa0 Jan-Bart van Beek, Studio Director & Art Director - Guerrilla',\n",
       "   'score': 0.8338803},\n",
       "  {'title': 'An Unsolicited PS5 Pro Review : r/PS5pro - Reddit',\n",
       "   'url': 'https://www.reddit.com/r/PS5pro/comments/1hswnt1/an_unsolicited_ps5_pro_review/',\n",
       "   'content': \"In two sentences: The PS5 Pro is probably the best pure home console I've ever owned, but it's also very difficult to recommend.\",\n",
       "   'score': 0.8332299},\n",
       "  {'title': 'PlayStation 5 Pro Console : Video Games - Amazon.com',\n",
       "   'url': 'https://www.amazon.com/PlayStation-5-Pro-Console/dp/B0DGY63Z2H',\n",
       "   'content': \"With the PlayStation®5 Pro console, the world's greatest game creators can enhance their games with incredible features like advanced ray tracing, super sharp image clarity for your 4K TV, and high frame rate gameplay.\",\n",
       "   'score': 0.8332299}],\n",
       " 'reason': 'NO. \\n\\nWhile the article captures the general excitement and anticipated features of the PS5 Pro, several claims made in the article are not fully supported by the sources provided.\\n\\n1. **Specifications and Features**: The article states that the PS5 Pro is expected to provide enhanced graphical capabilities and support for higher resolutions and improved frame rates. However, the sources do not explicitly confirm these details. The specifics of the graphics performance improvements, such as what resolutions or frame rates could be expected, are not clearly stated in the sources.\\n\\n2. **Storage Options**: The article mentions \"advanced storage solutions\" but does not provide any backing from the sources regarding what these solutions might entail or how they differ from the existing PS5. \\n\\n3. **Backward Compatibility**: While it mentions that the PS5 Pro is anticipated to maintain compatibility with existing PS5 games, this is an inference rather than a confirmed fact from the sources. The sources do not explicitly guarantee backward compatibility.\\n\\n4. **Comparison with Standard PS5**: The article discusses performance improvements and enhanced features, but again, these are largely speculative and not directly supported with specific information from the sources.\\n\\n5. **Release Information**: The claim that specific release dates and pricing details have not been officially confirmed is valid, but the article gives an impression of certainty about a near-future launch without substantiating this timing with evidence from the sources.\\n\\nTo improve the accuracy of the article:\\n- It should clarify that many of the anticipated features and improvements are speculative and based on community discussions rather than confirmed details.\\n- Incorporate more precise language regarding the expected capabilities and features.\\n- Directly reference any community sentiment or speculation, rather than presenting it as a certainty.\\n\\nOverall, the article could benefit from a more cautious tone regarding the unverified claims about the PS5 Pro.',\n",
       " 'draft': \"# PS5 Pro: An Overview\\n\\nThe PlayStation 5 Pro (PS5 Pro) is the anticipated upgraded version of Sony's PlayStation 5 console. It is designed to enhance the gaming experience with improved performance and features.\\n\\n## Specifications and Features\\n\\nThe PS5 Pro promises several enhancements over its predecessor. Key features include:\\n\\n- **Graphics Performance**: The PS5 Pro is expected to provide enhanced graphical capabilities, supporting higher resolutions and improved frame rates. This would allow for a more immersive gaming experience, particularly for titles that support 4K and beyond.\\n\\n- **Storage Options**: The console is likely to come with advanced storage solutions, accommodating larger game files and potentially improving load times. This is crucial as games continue to grow in size and complexity.\\n\\n- **Backward Compatibility**: The PS5 Pro is anticipated to maintain compatibility with the existing library of PS5 games, ensuring that users can continue to enjoy their favorite titles without any loss of access.\\n\\n## Comparison with Standard PS5\\n\\nWhen comparing the PS5 Pro to the standard PS5, several areas of improvement are highlighted:\\n\\n- **Performance Improvements**: The PS5 Pro is projected to deliver superior performance, particularly in demanding games. This includes enhanced graphical fidelity and smoother gameplay.\\n\\n- **Enhanced Features**: Additional features may include support for advanced technologies such as ray tracing and improved AI capabilities, further enriching the gaming experience.\\n\\n- **User Experience**: The PS5 Pro aims to provide a more refined user experience, potentially offering faster load times and improved system stability.\\n\\n## Release Information\\n\\nAs of now, specific release dates and pricing details for the PS5 Pro have not been officially confirmed. However, it is anticipated to launch in the near future, following the pattern of previous console upgrades by Sony.\\n\\n## Community Reception\\n\\nThe gaming community has shown significant interest in the PS5 Pro. Discussions on platforms such as Reddit reveal a mixture of excitement and speculation about its potential capabilities. Many gamers are eager to see how the PS5 Pro will compare to both the standard PS5 and competing consoles in terms of performance and value.\\n\\n## Conclusion\\n\\nThe PS5 Pro represents the next step in Sony's gaming console evolution, aiming to deliver an enhanced gaming experience through improved specifications and features. While exact details remain limited, the anticipation surrounding its release indicates strong interest from the gaming community. As more information becomes available, potential buyers will be keen to evaluate the benefits of upgrading from the standard PS5 to the PS5 Pro.\"}"
      ]
     },
     "execution_count": 109,
     "metadata": {},
     "output_type": "execute_result"
    }
   ],
   "source": [
    "graph.invoke({})"
   ]
  }
 ],
 "metadata": {
  "kernelspec": {
   "display_name": "Python 3",
   "language": "python",
   "name": "python3"
  },
  "language_info": {
   "codemirror_mode": {
    "name": "ipython",
    "version": 3
   },
   "file_extension": ".py",
   "mimetype": "text/x-python",
   "name": "python",
   "nbconvert_exporter": "python",
   "pygments_lexer": "ipython3",
   "version": "3.11.9"
  }
 },
 "nbformat": 4,
 "nbformat_minor": 5
}
